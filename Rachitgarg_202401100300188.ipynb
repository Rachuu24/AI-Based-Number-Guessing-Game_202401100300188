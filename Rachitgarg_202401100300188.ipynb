{
  "nbformat": 4,
  "nbformat_minor": 0,
  "metadata": {
    "colab": {
      "provenance": []
    },
    "kernelspec": {
      "name": "python3",
      "display_name": "Python 3"
    },
    "language_info": {
      "name": "python"
    }
  },
  "cells": [
    {
      "cell_type": "code",
      "execution_count": 2,
      "metadata": {
        "colab": {
          "base_uri": "https://localhost:8080/"
        },
        "id": "v2S8MGkCgtQG",
        "outputId": "d690dd03-270a-4d8a-9ba5-78312cf153e6"
      },
      "outputs": [
        {
          "output_type": "stream",
          "name": "stdout",
          "text": [
            "Welcome to the Number Guessing Game!\n",
            "Enter your guess (between 1 and 100): 50\n",
            "Your number is low! Try again.\n",
            "Enter your guess (between 1 and 100): 75\n",
            "Your number is low! Try again.\n",
            "Enter your guess (between 1 and 100): 87\n",
            "Your number is low! Try again.\n",
            "Enter your guess (between 1 and 100): 95\n",
            "Your number is low! Try again.\n",
            "Enter your guess (between 1 and 100): 99\n",
            "Your number is high! Try again.\n",
            "Enter your guess (between 1 and 100): 97\n",
            "Your number is high! Try again.\n",
            "Enter your guess (between 1 and 100): 96\n",
            "Congratulations! You guessed the number in 7 attempts.\n"
          ]
        }
      ],
      "source": [
        "import random   #import 'random' file to randomly generate numbers\n",
        "\n",
        "def guess_number():\n",
        "    print(\"Welcome to the Number Guessing Game!\")\n",
        "    number_to_guess = random.randint(1, 100)   #random number generated between 1 to 100\n",
        "    number_of_attempts = 0\n",
        "    user_guess = 0\n",
        "\n",
        "    #code to guess a number\n",
        "    while user_guess != number_to_guess:    #loop will run till the we get our number\n",
        "        user_guess = int(input(\"Enter your guess (between 1 and 100): \"))\n",
        "        number_of_attempts += 1   # after every iteration it will +1\n",
        "\n",
        "        # condition check\n",
        "        if user_guess < number_to_guess:\n",
        "            print(\"Your number is low! Try again.\")\n",
        "        elif user_guess > number_to_guess:\n",
        "            print(\"Your number is high! Try again.\")\n",
        "        else:\n",
        "            print(f\"Congratulations! You guessed the number in {number_of_attempts} attempts.\")\n",
        "\n",
        "guess_number()\n"
      ]
    }
  ]
}